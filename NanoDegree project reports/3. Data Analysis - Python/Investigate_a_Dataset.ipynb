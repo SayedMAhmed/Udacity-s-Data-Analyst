{
 "cells": [
  {
   "cell_type": "markdown",
   "metadata": {},
   "source": [
    "# Project: Investigate TMBD Movies Dataset\n",
    "\n",
    "## Table of Contents\n",
    "<ul>\n",
    "<li><a href=\"#intro\">Introduction</a></li>\n",
    "<li><a href=\"#wrangling\">Data Wrangling</a></li>\n",
    "<li><a href=\"#eda\">Exploratory Data Analysis</a></li>\n",
    "<li><a href=\"#conclusions\">Conclusions</a></li>\n",
    "</ul>"
   ]
  },
  {
   "cell_type": "markdown",
   "metadata": {},
   "source": [
    "<a id='intro'></a>\n",
    "## Introduction\n",
    "\n",
    "In this report, we will be investigation the TMBD Movies Dataset. This data set contains information about movies collected from The Movie Database (TMDb), including popularity, budget, revenue, and many more. We will be performing analysis on that information, and see if any patterns emerge.\n",
    "\n",
    "Questions we want answers for are:\n",
    "1. Which genres are most popular from year to year?\n",
    "2. What kinds of properties are associated with movies that have high revenues?"
   ]
  },
  {
   "cell_type": "code",
   "execution_count": 13,
   "metadata": {},
   "outputs": [],
   "source": [
    "# import important packages\n",
    "import numpy as np\n",
    "import pandas as pd\n",
    "import matplotlib.pyplot as plt\n",
    "% matplotlib inline\n"
   ]
  },
  {
   "cell_type": "markdown",
   "metadata": {},
   "source": [
    "<a id='wrangling'></a>\n",
    "## Data Wrangling\n",
    "\n",
    "Before we go on to answer our questions, we have to make sure the dataset is as tidy as possible, to make sure our presentation of the data will be accurate. We will be checking for null values, any illogical values, duplicated rows and correct any data type that needs correcting. Alse we will drop any column that doesn't have useful data.\n",
    "\n",
    "### General Properties"
   ]
  },
  {
   "cell_type": "code",
   "execution_count": 14,
   "metadata": {},
   "outputs": [
    {
     "data": {
      "text/html": [
       "<div>\n",
       "<style scoped>\n",
       "    .dataframe tbody tr th:only-of-type {\n",
       "        vertical-align: middle;\n",
       "    }\n",
       "\n",
       "    .dataframe tbody tr th {\n",
       "        vertical-align: top;\n",
       "    }\n",
       "\n",
       "    .dataframe thead th {\n",
       "        text-align: right;\n",
       "    }\n",
       "</style>\n",
       "<table border=\"1\" class=\"dataframe\">\n",
       "  <thead>\n",
       "    <tr style=\"text-align: right;\">\n",
       "      <th></th>\n",
       "      <th>id</th>\n",
       "      <th>imdb_id</th>\n",
       "      <th>popularity</th>\n",
       "      <th>budget</th>\n",
       "      <th>revenue</th>\n",
       "      <th>original_title</th>\n",
       "      <th>cast</th>\n",
       "      <th>homepage</th>\n",
       "      <th>director</th>\n",
       "      <th>tagline</th>\n",
       "      <th>...</th>\n",
       "      <th>overview</th>\n",
       "      <th>runtime</th>\n",
       "      <th>genres</th>\n",
       "      <th>production_companies</th>\n",
       "      <th>release_date</th>\n",
       "      <th>vote_count</th>\n",
       "      <th>vote_average</th>\n",
       "      <th>release_year</th>\n",
       "      <th>budget_adj</th>\n",
       "      <th>revenue_adj</th>\n",
       "    </tr>\n",
       "  </thead>\n",
       "  <tbody>\n",
       "    <tr>\n",
       "      <th>0</th>\n",
       "      <td>135397</td>\n",
       "      <td>tt0369610</td>\n",
       "      <td>32.985763</td>\n",
       "      <td>150000000</td>\n",
       "      <td>1513528810</td>\n",
       "      <td>Jurassic World</td>\n",
       "      <td>Chris Pratt|Bryce Dallas Howard|Irrfan Khan|Vi...</td>\n",
       "      <td>http://www.jurassicworld.com/</td>\n",
       "      <td>Colin Trevorrow</td>\n",
       "      <td>The park is open.</td>\n",
       "      <td>...</td>\n",
       "      <td>Twenty-two years after the events of Jurassic ...</td>\n",
       "      <td>124</td>\n",
       "      <td>Action|Adventure|Science Fiction|Thriller</td>\n",
       "      <td>Universal Studios|Amblin Entertainment|Legenda...</td>\n",
       "      <td>6/9/15</td>\n",
       "      <td>5562</td>\n",
       "      <td>6.5</td>\n",
       "      <td>2015</td>\n",
       "      <td>1.379999e+08</td>\n",
       "      <td>1.392446e+09</td>\n",
       "    </tr>\n",
       "    <tr>\n",
       "      <th>1</th>\n",
       "      <td>76341</td>\n",
       "      <td>tt1392190</td>\n",
       "      <td>28.419936</td>\n",
       "      <td>150000000</td>\n",
       "      <td>378436354</td>\n",
       "      <td>Mad Max: Fury Road</td>\n",
       "      <td>Tom Hardy|Charlize Theron|Hugh Keays-Byrne|Nic...</td>\n",
       "      <td>http://www.madmaxmovie.com/</td>\n",
       "      <td>George Miller</td>\n",
       "      <td>What a Lovely Day.</td>\n",
       "      <td>...</td>\n",
       "      <td>An apocalyptic story set in the furthest reach...</td>\n",
       "      <td>120</td>\n",
       "      <td>Action|Adventure|Science Fiction|Thriller</td>\n",
       "      <td>Village Roadshow Pictures|Kennedy Miller Produ...</td>\n",
       "      <td>5/13/15</td>\n",
       "      <td>6185</td>\n",
       "      <td>7.1</td>\n",
       "      <td>2015</td>\n",
       "      <td>1.379999e+08</td>\n",
       "      <td>3.481613e+08</td>\n",
       "    </tr>\n",
       "    <tr>\n",
       "      <th>2</th>\n",
       "      <td>262500</td>\n",
       "      <td>tt2908446</td>\n",
       "      <td>13.112507</td>\n",
       "      <td>110000000</td>\n",
       "      <td>295238201</td>\n",
       "      <td>Insurgent</td>\n",
       "      <td>Shailene Woodley|Theo James|Kate Winslet|Ansel...</td>\n",
       "      <td>http://www.thedivergentseries.movie/#insurgent</td>\n",
       "      <td>Robert Schwentke</td>\n",
       "      <td>One Choice Can Destroy You</td>\n",
       "      <td>...</td>\n",
       "      <td>Beatrice Prior must confront her inner demons ...</td>\n",
       "      <td>119</td>\n",
       "      <td>Adventure|Science Fiction|Thriller</td>\n",
       "      <td>Summit Entertainment|Mandeville Films|Red Wago...</td>\n",
       "      <td>3/18/15</td>\n",
       "      <td>2480</td>\n",
       "      <td>6.3</td>\n",
       "      <td>2015</td>\n",
       "      <td>1.012000e+08</td>\n",
       "      <td>2.716190e+08</td>\n",
       "    </tr>\n",
       "    <tr>\n",
       "      <th>3</th>\n",
       "      <td>140607</td>\n",
       "      <td>tt2488496</td>\n",
       "      <td>11.173104</td>\n",
       "      <td>200000000</td>\n",
       "      <td>2068178225</td>\n",
       "      <td>Star Wars: The Force Awakens</td>\n",
       "      <td>Harrison Ford|Mark Hamill|Carrie Fisher|Adam D...</td>\n",
       "      <td>http://www.starwars.com/films/star-wars-episod...</td>\n",
       "      <td>J.J. Abrams</td>\n",
       "      <td>Every generation has a story.</td>\n",
       "      <td>...</td>\n",
       "      <td>Thirty years after defeating the Galactic Empi...</td>\n",
       "      <td>136</td>\n",
       "      <td>Action|Adventure|Science Fiction|Fantasy</td>\n",
       "      <td>Lucasfilm|Truenorth Productions|Bad Robot</td>\n",
       "      <td>12/15/15</td>\n",
       "      <td>5292</td>\n",
       "      <td>7.5</td>\n",
       "      <td>2015</td>\n",
       "      <td>1.839999e+08</td>\n",
       "      <td>1.902723e+09</td>\n",
       "    </tr>\n",
       "    <tr>\n",
       "      <th>4</th>\n",
       "      <td>168259</td>\n",
       "      <td>tt2820852</td>\n",
       "      <td>9.335014</td>\n",
       "      <td>190000000</td>\n",
       "      <td>1506249360</td>\n",
       "      <td>Furious 7</td>\n",
       "      <td>Vin Diesel|Paul Walker|Jason Statham|Michelle ...</td>\n",
       "      <td>http://www.furious7.com/</td>\n",
       "      <td>James Wan</td>\n",
       "      <td>Vengeance Hits Home</td>\n",
       "      <td>...</td>\n",
       "      <td>Deckard Shaw seeks revenge against Dominic Tor...</td>\n",
       "      <td>137</td>\n",
       "      <td>Action|Crime|Thriller</td>\n",
       "      <td>Universal Pictures|Original Film|Media Rights ...</td>\n",
       "      <td>4/1/15</td>\n",
       "      <td>2947</td>\n",
       "      <td>7.3</td>\n",
       "      <td>2015</td>\n",
       "      <td>1.747999e+08</td>\n",
       "      <td>1.385749e+09</td>\n",
       "    </tr>\n",
       "  </tbody>\n",
       "</table>\n",
       "<p>5 rows × 21 columns</p>\n",
       "</div>"
      ],
      "text/plain": [
       "       id    imdb_id  popularity     budget     revenue  \\\n",
       "0  135397  tt0369610   32.985763  150000000  1513528810   \n",
       "1   76341  tt1392190   28.419936  150000000   378436354   \n",
       "2  262500  tt2908446   13.112507  110000000   295238201   \n",
       "3  140607  tt2488496   11.173104  200000000  2068178225   \n",
       "4  168259  tt2820852    9.335014  190000000  1506249360   \n",
       "\n",
       "                 original_title  \\\n",
       "0                Jurassic World   \n",
       "1            Mad Max: Fury Road   \n",
       "2                     Insurgent   \n",
       "3  Star Wars: The Force Awakens   \n",
       "4                     Furious 7   \n",
       "\n",
       "                                                cast  \\\n",
       "0  Chris Pratt|Bryce Dallas Howard|Irrfan Khan|Vi...   \n",
       "1  Tom Hardy|Charlize Theron|Hugh Keays-Byrne|Nic...   \n",
       "2  Shailene Woodley|Theo James|Kate Winslet|Ansel...   \n",
       "3  Harrison Ford|Mark Hamill|Carrie Fisher|Adam D...   \n",
       "4  Vin Diesel|Paul Walker|Jason Statham|Michelle ...   \n",
       "\n",
       "                                            homepage          director  \\\n",
       "0                      http://www.jurassicworld.com/   Colin Trevorrow   \n",
       "1                        http://www.madmaxmovie.com/     George Miller   \n",
       "2     http://www.thedivergentseries.movie/#insurgent  Robert Schwentke   \n",
       "3  http://www.starwars.com/films/star-wars-episod...       J.J. Abrams   \n",
       "4                           http://www.furious7.com/         James Wan   \n",
       "\n",
       "                         tagline      ...       \\\n",
       "0              The park is open.      ...        \n",
       "1             What a Lovely Day.      ...        \n",
       "2     One Choice Can Destroy You      ...        \n",
       "3  Every generation has a story.      ...        \n",
       "4            Vengeance Hits Home      ...        \n",
       "\n",
       "                                            overview runtime  \\\n",
       "0  Twenty-two years after the events of Jurassic ...     124   \n",
       "1  An apocalyptic story set in the furthest reach...     120   \n",
       "2  Beatrice Prior must confront her inner demons ...     119   \n",
       "3  Thirty years after defeating the Galactic Empi...     136   \n",
       "4  Deckard Shaw seeks revenge against Dominic Tor...     137   \n",
       "\n",
       "                                      genres  \\\n",
       "0  Action|Adventure|Science Fiction|Thriller   \n",
       "1  Action|Adventure|Science Fiction|Thriller   \n",
       "2         Adventure|Science Fiction|Thriller   \n",
       "3   Action|Adventure|Science Fiction|Fantasy   \n",
       "4                      Action|Crime|Thriller   \n",
       "\n",
       "                                production_companies release_date vote_count  \\\n",
       "0  Universal Studios|Amblin Entertainment|Legenda...       6/9/15       5562   \n",
       "1  Village Roadshow Pictures|Kennedy Miller Produ...      5/13/15       6185   \n",
       "2  Summit Entertainment|Mandeville Films|Red Wago...      3/18/15       2480   \n",
       "3          Lucasfilm|Truenorth Productions|Bad Robot     12/15/15       5292   \n",
       "4  Universal Pictures|Original Film|Media Rights ...       4/1/15       2947   \n",
       "\n",
       "   vote_average  release_year    budget_adj   revenue_adj  \n",
       "0           6.5          2015  1.379999e+08  1.392446e+09  \n",
       "1           7.1          2015  1.379999e+08  3.481613e+08  \n",
       "2           6.3          2015  1.012000e+08  2.716190e+08  \n",
       "3           7.5          2015  1.839999e+08  1.902723e+09  \n",
       "4           7.3          2015  1.747999e+08  1.385749e+09  \n",
       "\n",
       "[5 rows x 21 columns]"
      ]
     },
     "execution_count": 14,
     "metadata": {},
     "output_type": "execute_result"
    }
   ],
   "source": [
    "# read movies dataset\n",
    "df = pd.read_csv('tmdb-movies.csv')\n",
    "df.head()"
   ]
  },
  {
   "cell_type": "code",
   "execution_count": 15,
   "metadata": {
    "scrolled": false
   },
   "outputs": [
    {
     "data": {
      "text/html": [
       "<div>\n",
       "<style scoped>\n",
       "    .dataframe tbody tr th:only-of-type {\n",
       "        vertical-align: middle;\n",
       "    }\n",
       "\n",
       "    .dataframe tbody tr th {\n",
       "        vertical-align: top;\n",
       "    }\n",
       "\n",
       "    .dataframe thead th {\n",
       "        text-align: right;\n",
       "    }\n",
       "</style>\n",
       "<table border=\"1\" class=\"dataframe\">\n",
       "  <thead>\n",
       "    <tr style=\"text-align: right;\">\n",
       "      <th></th>\n",
       "      <th>popularity</th>\n",
       "      <th>budget</th>\n",
       "      <th>revenue</th>\n",
       "      <th>original_title</th>\n",
       "      <th>cast</th>\n",
       "      <th>director</th>\n",
       "      <th>runtime</th>\n",
       "      <th>genres</th>\n",
       "      <th>vote_count</th>\n",
       "      <th>vote_average</th>\n",
       "      <th>release_year</th>\n",
       "      <th>budget_adj</th>\n",
       "      <th>revenue_adj</th>\n",
       "    </tr>\n",
       "  </thead>\n",
       "  <tbody>\n",
       "    <tr>\n",
       "      <th>0</th>\n",
       "      <td>32.985763</td>\n",
       "      <td>150000000</td>\n",
       "      <td>1513528810</td>\n",
       "      <td>Jurassic World</td>\n",
       "      <td>Chris Pratt|Bryce Dallas Howard|Irrfan Khan|Vi...</td>\n",
       "      <td>Colin Trevorrow</td>\n",
       "      <td>124</td>\n",
       "      <td>Action|Adventure|Science Fiction|Thriller</td>\n",
       "      <td>5562</td>\n",
       "      <td>6.5</td>\n",
       "      <td>2015</td>\n",
       "      <td>1.379999e+08</td>\n",
       "      <td>1.392446e+09</td>\n",
       "    </tr>\n",
       "    <tr>\n",
       "      <th>1</th>\n",
       "      <td>28.419936</td>\n",
       "      <td>150000000</td>\n",
       "      <td>378436354</td>\n",
       "      <td>Mad Max: Fury Road</td>\n",
       "      <td>Tom Hardy|Charlize Theron|Hugh Keays-Byrne|Nic...</td>\n",
       "      <td>George Miller</td>\n",
       "      <td>120</td>\n",
       "      <td>Action|Adventure|Science Fiction|Thriller</td>\n",
       "      <td>6185</td>\n",
       "      <td>7.1</td>\n",
       "      <td>2015</td>\n",
       "      <td>1.379999e+08</td>\n",
       "      <td>3.481613e+08</td>\n",
       "    </tr>\n",
       "    <tr>\n",
       "      <th>2</th>\n",
       "      <td>13.112507</td>\n",
       "      <td>110000000</td>\n",
       "      <td>295238201</td>\n",
       "      <td>Insurgent</td>\n",
       "      <td>Shailene Woodley|Theo James|Kate Winslet|Ansel...</td>\n",
       "      <td>Robert Schwentke</td>\n",
       "      <td>119</td>\n",
       "      <td>Adventure|Science Fiction|Thriller</td>\n",
       "      <td>2480</td>\n",
       "      <td>6.3</td>\n",
       "      <td>2015</td>\n",
       "      <td>1.012000e+08</td>\n",
       "      <td>2.716190e+08</td>\n",
       "    </tr>\n",
       "    <tr>\n",
       "      <th>3</th>\n",
       "      <td>11.173104</td>\n",
       "      <td>200000000</td>\n",
       "      <td>2068178225</td>\n",
       "      <td>Star Wars: The Force Awakens</td>\n",
       "      <td>Harrison Ford|Mark Hamill|Carrie Fisher|Adam D...</td>\n",
       "      <td>J.J. Abrams</td>\n",
       "      <td>136</td>\n",
       "      <td>Action|Adventure|Science Fiction|Fantasy</td>\n",
       "      <td>5292</td>\n",
       "      <td>7.5</td>\n",
       "      <td>2015</td>\n",
       "      <td>1.839999e+08</td>\n",
       "      <td>1.902723e+09</td>\n",
       "    </tr>\n",
       "    <tr>\n",
       "      <th>4</th>\n",
       "      <td>9.335014</td>\n",
       "      <td>190000000</td>\n",
       "      <td>1506249360</td>\n",
       "      <td>Furious 7</td>\n",
       "      <td>Vin Diesel|Paul Walker|Jason Statham|Michelle ...</td>\n",
       "      <td>James Wan</td>\n",
       "      <td>137</td>\n",
       "      <td>Action|Crime|Thriller</td>\n",
       "      <td>2947</td>\n",
       "      <td>7.3</td>\n",
       "      <td>2015</td>\n",
       "      <td>1.747999e+08</td>\n",
       "      <td>1.385749e+09</td>\n",
       "    </tr>\n",
       "  </tbody>\n",
       "</table>\n",
       "</div>"
      ],
      "text/plain": [
       "   popularity     budget     revenue                original_title  \\\n",
       "0   32.985763  150000000  1513528810                Jurassic World   \n",
       "1   28.419936  150000000   378436354            Mad Max: Fury Road   \n",
       "2   13.112507  110000000   295238201                     Insurgent   \n",
       "3   11.173104  200000000  2068178225  Star Wars: The Force Awakens   \n",
       "4    9.335014  190000000  1506249360                     Furious 7   \n",
       "\n",
       "                                                cast          director  \\\n",
       "0  Chris Pratt|Bryce Dallas Howard|Irrfan Khan|Vi...   Colin Trevorrow   \n",
       "1  Tom Hardy|Charlize Theron|Hugh Keays-Byrne|Nic...     George Miller   \n",
       "2  Shailene Woodley|Theo James|Kate Winslet|Ansel...  Robert Schwentke   \n",
       "3  Harrison Ford|Mark Hamill|Carrie Fisher|Adam D...       J.J. Abrams   \n",
       "4  Vin Diesel|Paul Walker|Jason Statham|Michelle ...         James Wan   \n",
       "\n",
       "   runtime                                     genres  vote_count  \\\n",
       "0      124  Action|Adventure|Science Fiction|Thriller        5562   \n",
       "1      120  Action|Adventure|Science Fiction|Thriller        6185   \n",
       "2      119         Adventure|Science Fiction|Thriller        2480   \n",
       "3      136   Action|Adventure|Science Fiction|Fantasy        5292   \n",
       "4      137                      Action|Crime|Thriller        2947   \n",
       "\n",
       "   vote_average  release_year    budget_adj   revenue_adj  \n",
       "0           6.5          2015  1.379999e+08  1.392446e+09  \n",
       "1           7.1          2015  1.379999e+08  3.481613e+08  \n",
       "2           6.3          2015  1.012000e+08  2.716190e+08  \n",
       "3           7.5          2015  1.839999e+08  1.902723e+09  \n",
       "4           7.3          2015  1.747999e+08  1.385749e+09  "
      ]
     },
     "execution_count": 15,
     "metadata": {},
     "output_type": "execute_result"
    }
   ],
   "source": [
    "# drop irrelevant columns\n",
    "# I'm dropping production_companies as well, because it has many null values,\n",
    "# and it's not very beneficial to include it in our analysis.\n",
    "df.drop(columns=['id','imdb_id','homepage','tagline','overview','keywords', 'release_date', 'production_companies'], inplace=True)\n",
    "df.head()"
   ]
  },
  {
   "cell_type": "code",
   "execution_count": 16,
   "metadata": {},
   "outputs": [
    {
     "data": {
      "text/plain": [
       "(10866, 13)"
      ]
     },
     "execution_count": 16,
     "metadata": {},
     "output_type": "execute_result"
    }
   ],
   "source": [
    "df.shape"
   ]
  },
  {
   "cell_type": "code",
   "execution_count": 17,
   "metadata": {},
   "outputs": [
    {
     "data": {
      "image/png": "[encoded data removed]",
      "text/plain": [
       "<matplotlib.figure.Figure at 0x7fb770d1a470>"
      ]
     },
     "metadata": {
      "needs_background": "light"
     },
     "output_type": "display_data"
    }
   ],
   "source": [
    "#an early overview of the data\n",
    "df.hist(figsize=(10,8));"
   ]
  },
  {
   "cell_type": "code",
   "execution_count": 18,
   "metadata": {},
   "outputs": [
    {
     "name": "stdout",
     "output_type": "stream",
     "text": [
      "<class 'pandas.core.frame.DataFrame'>\n",
      "RangeIndex: 10866 entries, 0 to 10865\n",
      "Data columns (total 13 columns):\n",
      "popularity        10866 non-null float64\n",
      "budget            10866 non-null int64\n",
      "revenue           10866 non-null int64\n",
      "original_title    10866 non-null object\n",
      "cast              10790 non-null object\n",
      "director          10822 non-null object\n",
      "runtime           10866 non-null int64\n",
      "genres            10843 non-null object\n",
      "vote_count        10866 non-null int64\n",
      "vote_average      10866 non-null float64\n",
      "release_year      10866 non-null int64\n",
      "budget_adj        10866 non-null float64\n",
      "revenue_adj       10866 non-null float64\n",
      "dtypes: float64(4), int64(5), object(4)\n",
      "memory usage: 1.1+ MB\n"
     ]
    }
   ],
   "source": [
    "df.info()"
   ]
  },
  {
   "cell_type": "markdown",
   "metadata": {},
   "source": [
    "Our dataset seems to have many missing values. Since our missing values have to do only with (genre,cast,director), we'll just fill it with a known value so as to not lose data. And the data types seems to be set correctly to their corresponding columns."
   ]
  },
  {
   "cell_type": "code",
   "execution_count": 19,
   "metadata": {},
   "outputs": [
    {
     "data": {
      "text/html": [
       "<div>\n",
       "<style scoped>\n",
       "    .dataframe tbody tr th:only-of-type {\n",
       "        vertical-align: middle;\n",
       "    }\n",
       "\n",
       "    .dataframe tbody tr th {\n",
       "        vertical-align: top;\n",
       "    }\n",
       "\n",
       "    .dataframe thead th {\n",
       "        text-align: right;\n",
       "    }\n",
       "</style>\n",
       "<table border=\"1\" class=\"dataframe\">\n",
       "  <thead>\n",
       "    <tr style=\"text-align: right;\">\n",
       "      <th></th>\n",
       "      <th>popularity</th>\n",
       "      <th>budget</th>\n",
       "      <th>revenue</th>\n",
       "      <th>runtime</th>\n",
       "      <th>vote_count</th>\n",
       "      <th>vote_average</th>\n",
       "      <th>release_year</th>\n",
       "      <th>budget_adj</th>\n",
       "      <th>revenue_adj</th>\n",
       "    </tr>\n",
       "  </thead>\n",
       "  <tbody>\n",
       "    <tr>\n",
       "      <th>count</th>\n",
       "      <td>10866.000000</td>\n",
       "      <td>1.086600e+04</td>\n",
       "      <td>1.086600e+04</td>\n",
       "      <td>10866.000000</td>\n",
       "      <td>10866.000000</td>\n",
       "      <td>10866.000000</td>\n",
       "      <td>10866.000000</td>\n",
       "      <td>1.086600e+04</td>\n",
       "      <td>1.086600e+04</td>\n",
       "    </tr>\n",
       "    <tr>\n",
       "      <th>mean</th>\n",
       "      <td>0.646441</td>\n",
       "      <td>1.462570e+07</td>\n",
       "      <td>3.982332e+07</td>\n",
       "      <td>102.070863</td>\n",
       "      <td>217.389748</td>\n",
       "      <td>5.974922</td>\n",
       "      <td>2001.322658</td>\n",
       "      <td>1.755104e+07</td>\n",
       "      <td>5.136436e+07</td>\n",
       "    </tr>\n",
       "    <tr>\n",
       "      <th>std</th>\n",
       "      <td>1.000185</td>\n",
       "      <td>3.091321e+07</td>\n",
       "      <td>1.170035e+08</td>\n",
       "      <td>31.381405</td>\n",
       "      <td>575.619058</td>\n",
       "      <td>0.935142</td>\n",
       "      <td>12.812941</td>\n",
       "      <td>3.430616e+07</td>\n",
       "      <td>1.446325e+08</td>\n",
       "    </tr>\n",
       "    <tr>\n",
       "      <th>min</th>\n",
       "      <td>0.000065</td>\n",
       "      <td>0.000000e+00</td>\n",
       "      <td>0.000000e+00</td>\n",
       "      <td>0.000000</td>\n",
       "      <td>10.000000</td>\n",
       "      <td>1.500000</td>\n",
       "      <td>1960.000000</td>\n",
       "      <td>0.000000e+00</td>\n",
       "      <td>0.000000e+00</td>\n",
       "    </tr>\n",
       "    <tr>\n",
       "      <th>25%</th>\n",
       "      <td>0.207583</td>\n",
       "      <td>0.000000e+00</td>\n",
       "      <td>0.000000e+00</td>\n",
       "      <td>90.000000</td>\n",
       "      <td>17.000000</td>\n",
       "      <td>5.400000</td>\n",
       "      <td>1995.000000</td>\n",
       "      <td>0.000000e+00</td>\n",
       "      <td>0.000000e+00</td>\n",
       "    </tr>\n",
       "    <tr>\n",
       "      <th>50%</th>\n",
       "      <td>0.383856</td>\n",
       "      <td>0.000000e+00</td>\n",
       "      <td>0.000000e+00</td>\n",
       "      <td>99.000000</td>\n",
       "      <td>38.000000</td>\n",
       "      <td>6.000000</td>\n",
       "      <td>2006.000000</td>\n",
       "      <td>0.000000e+00</td>\n",
       "      <td>0.000000e+00</td>\n",
       "    </tr>\n",
       "    <tr>\n",
       "      <th>75%</th>\n",
       "      <td>0.713817</td>\n",
       "      <td>1.500000e+07</td>\n",
       "      <td>2.400000e+07</td>\n",
       "      <td>111.000000</td>\n",
       "      <td>145.750000</td>\n",
       "      <td>6.600000</td>\n",
       "      <td>2011.000000</td>\n",
       "      <td>2.085325e+07</td>\n",
       "      <td>3.369710e+07</td>\n",
       "    </tr>\n",
       "    <tr>\n",
       "      <th>max</th>\n",
       "      <td>32.985763</td>\n",
       "      <td>4.250000e+08</td>\n",
       "      <td>2.781506e+09</td>\n",
       "      <td>900.000000</td>\n",
       "      <td>9767.000000</td>\n",
       "      <td>9.200000</td>\n",
       "      <td>2015.000000</td>\n",
       "      <td>4.250000e+08</td>\n",
       "      <td>2.827124e+09</td>\n",
       "    </tr>\n",
       "  </tbody>\n",
       "</table>\n",
       "</div>"
      ],
      "text/plain": [
       "         popularity        budget       revenue       runtime    vote_count  \\\n",
       "count  10866.000000  1.086600e+04  1.086600e+04  10866.000000  10866.000000   \n",
       "mean       0.646441  1.462570e+07  3.982332e+07    102.070863    217.389748   \n",
       "std        1.000185  3.091321e+07  1.170035e+08     31.381405    575.619058   \n",
       "min        0.000065  0.000000e+00  0.000000e+00      0.000000     10.000000   \n",
       "25%        0.207583  0.000000e+00  0.000000e+00     90.000000     17.000000   \n",
       "50%        0.383856  0.000000e+00  0.000000e+00     99.000000     38.000000   \n",
       "75%        0.713817  1.500000e+07  2.400000e+07    111.000000    145.750000   \n",
       "max       32.985763  4.250000e+08  2.781506e+09    900.000000   9767.000000   \n",
       "\n",
       "       vote_average  release_year    budget_adj   revenue_adj  \n",
       "count  10866.000000  10866.000000  1.086600e+04  1.086600e+04  \n",
       "mean       5.974922   2001.322658  1.755104e+07  5.136436e+07  \n",
       "std        0.935142     12.812941  3.430616e+07  1.446325e+08  \n",
       "min        1.500000   1960.000000  0.000000e+00  0.000000e+00  \n",
       "25%        5.400000   1995.000000  0.000000e+00  0.000000e+00  \n",
       "50%        6.000000   2006.000000  0.000000e+00  0.000000e+00  \n",
       "75%        6.600000   2011.000000  2.085325e+07  3.369710e+07  \n",
       "max        9.200000   2015.000000  4.250000e+08  2.827124e+09  "
      ]
     },
     "execution_count": 19,
     "metadata": {},
     "output_type": "execute_result"
    }
   ],
   "source": [
    "df.describe()"
   ]
  },
  {
   "cell_type": "markdown",
   "metadata": {},
   "source": [
    "We see from these statistics that the minimum value is zero for these columns(budget, revenue, runtime, budget_adj, revenue_adj). So before answering our question involving revenue, we'll have to drop budget and revenue rows with zero values. Also, we see that maximum runtime is 900, which means there are TV shows as well as movies in our dataset, for convenience we are going to include them in our analysis."
   ]
  },
  {
   "cell_type": "code",
   "execution_count": 20,
   "metadata": {},
   "outputs": [
    {
     "data": {
      "text/plain": [
       "1"
      ]
     },
     "execution_count": 20,
     "metadata": {},
     "output_type": "execute_result"
    }
   ],
   "source": [
    "# check for duplicated rows\n",
    "sum(df.duplicated())"
   ]
  },
  {
   "cell_type": "markdown",
   "metadata": {},
   "source": [
    "The dataset have one duplicated row we're going to drop."
   ]
  },
  {
   "cell_type": "markdown",
   "metadata": {},
   "source": [
    "### Data Cleaning\n",
    "After reviewing our dataset, we've concluded that there are null values in the dataset that need to be filled, and a duplicated row that will also be removed. The minimum value for budget and revenue is zero. we resolve this by removing rows with zero values."
   ]
  },
  {
   "cell_type": "code",
   "execution_count": 23,
   "metadata": {},
   "outputs": [
    {
     "data": {
      "text/plain": [
       "popularity        6016\n",
       "budget            6016\n",
       "revenue           6016\n",
       "original_title    6016\n",
       "cast              5945\n",
       "director          5973\n",
       "runtime           6016\n",
       "genres            5993\n",
       "vote_count        6016\n",
       "vote_average      6016\n",
       "release_year      6016\n",
       "budget_adj        6016\n",
       "revenue_adj       6016\n",
       "dtype: int64"
      ]
     },
     "execution_count": 23,
     "metadata": {},
     "output_type": "execute_result"
    }
   ],
   "source": [
    "# drop the duplicate\n",
    "df.drop_duplicates(inplace=True)\n",
    "df[df.revenue == 0].count()"
   ]
  },
  {
   "cell_type": "markdown",
   "metadata": {},
   "source": [
    "Because there are thousands of row with zero values we're going to assign the non-zeroes dataframe to a new one, so we can make use of the data, and answer our first question!"
   ]
  },
  {
   "cell_type": "code",
   "execution_count": 24,
   "metadata": {},
   "outputs": [],
   "source": [
    "# replace null values in rows with the string \"TBD\"\n",
    "df.fillna('TBD', inplace=True)\n",
    "# drop rows with zero values\n",
    "revenue_df = df[(df != 0).all(1)]"
   ]
  },
  {
   "cell_type": "markdown",
   "metadata": {},
   "source": [
    "We have finished cleaning our dataset. Now, we will just review general properties after the cleaning."
   ]
  },
  {
   "cell_type": "code",
   "execution_count": 25,
   "metadata": {},
   "outputs": [
    {
     "data": {
      "text/plain": [
       "(10865, 13)"
      ]
     },
     "execution_count": 25,
     "metadata": {},
     "output_type": "execute_result"
    }
   ],
   "source": [
    "df.shape"
   ]
  },
  {
   "cell_type": "code",
   "execution_count": 26,
   "metadata": {},
   "outputs": [
    {
     "data": {
      "text/plain": [
       "(3854, 13)"
      ]
     },
     "execution_count": 26,
     "metadata": {},
     "output_type": "execute_result"
    }
   ],
   "source": [
    "revenue_df.shape"
   ]
  },
  {
   "cell_type": "code",
   "execution_count": 27,
   "metadata": {},
   "outputs": [
    {
     "name": "stdout",
     "output_type": "stream",
     "text": [
      "<class 'pandas.core.frame.DataFrame'>\n",
      "Int64Index: 10865 entries, 0 to 10865\n",
      "Data columns (total 13 columns):\n",
      "popularity        10865 non-null float64\n",
      "budget            10865 non-null int64\n",
      "revenue           10865 non-null int64\n",
      "original_title    10865 non-null object\n",
      "cast              10865 non-null object\n",
      "director          10865 non-null object\n",
      "runtime           10865 non-null int64\n",
      "genres            10865 non-null object\n",
      "vote_count        10865 non-null int64\n",
      "vote_average      10865 non-null float64\n",
      "release_year      10865 non-null int64\n",
      "budget_adj        10865 non-null float64\n",
      "revenue_adj       10865 non-null float64\n",
      "dtypes: float64(4), int64(5), object(4)\n",
      "memory usage: 1.2+ MB\n"
     ]
    }
   ],
   "source": [
    "df.info()"
   ]
  },
  {
   "cell_type": "code",
   "execution_count": 28,
   "metadata": {},
   "outputs": [
    {
     "name": "stdout",
     "output_type": "stream",
     "text": [
      "<class 'pandas.core.frame.DataFrame'>\n",
      "Int64Index: 3854 entries, 0 to 10848\n",
      "Data columns (total 13 columns):\n",
      "popularity        3854 non-null float64\n",
      "budget            3854 non-null int64\n",
      "revenue           3854 non-null int64\n",
      "original_title    3854 non-null object\n",
      "cast              3854 non-null object\n",
      "director          3854 non-null object\n",
      "runtime           3854 non-null int64\n",
      "genres            3854 non-null object\n",
      "vote_count        3854 non-null int64\n",
      "vote_average      3854 non-null float64\n",
      "release_year      3854 non-null int64\n",
      "budget_adj        3854 non-null float64\n",
      "revenue_adj       3854 non-null float64\n",
      "dtypes: float64(4), int64(5), object(4)\n",
      "memory usage: 421.5+ KB\n"
     ]
    }
   ],
   "source": [
    "revenue_df.info()"
   ]
  },
  {
   "cell_type": "markdown",
   "metadata": {},
   "source": [
    "Everything seems to be in good shape. Now, we move on to exploring the Data!"
   ]
  },
  {
   "cell_type": "markdown",
   "metadata": {},
   "source": [
    "<a id='eda'></a>\n",
    "## Exploratory Data Analysis\n",
    "\n",
    "Now that we've cleaned our dataset, we are ready to move on to answering our previous questions:\n",
    "1. Which genres are most popular from year to year?\n",
    "2. What kinds of properties are associated with movies that have high revenues?\n",
    "\n",
    "### Which genres are most popular from year to year?\n",
    "To answer this question we have do analysis for each genre, meaning that for each genre we will group the data by year and find highest mean for popularity, for each year."
   ]
  },
  {
   "cell_type": "code",
   "execution_count": 29,
   "metadata": {},
   "outputs": [],
   "source": [
    "# First we have to identify all genres in the dataset\n",
    "# because genres column contain multiple genres seperated by \"|\" for the same row\n",
    "\n",
    "genres_list = df.genres.tolist()\n",
    "\n",
    "#index\n",
    "ind = 0\n",
    "for genre in genres_list:\n",
    "    genres_list[ind] = str(genre).split('|')\n",
    "    ind += 1\n",
    "    \n",
    "# genres_list now have a list of lists, now we take elemnts on nested list and make it an element for outer list\n",
    "flat_list = []\n",
    "for sublist in genres_list:\n",
    "    for item in sublist:\n",
    "        flat_list.append(item)\n",
    "\n",
    "# now we turn the list into a set to drop all duplicates\n",
    "set_genres = set(flat_list)"
   ]
  },
  {
   "cell_type": "code",
   "execution_count": 30,
   "metadata": {},
   "outputs": [
    {
     "name": "stdout",
     "output_type": "stream",
     "text": [
      "{1999: [['Foreign', 0.015074], ['Drama', 1.249393764705882], ['Comedy', 0.4394375555555555], ['Fantasy', 0.758412], ['Documentary', 0.1418835]], 1968: [['War', 0.166845], ['Horror', 0.6900814999999999], ['Western', 0.621202], ['Science Fiction', 0.867192], ['Drama', 0.165021], ['Animation', 0.1040335], ['Comedy', 0.35474900000000004]], 1989: [['War', 1.836091], ['Horror', 0.20048166666666667], ['Drama', 0.5982754285714285], ['Music', 0.260602], ['Comedy', 0.38870958333333333], ['Documentary', 0.163885], ['TBD', 0.094652]], 2001: [['War', 1.839325], ['Horror', 0.45533500000000005], ['Thriller', 0.45438666666666666], ['Science Fiction', 0.198443], ['Drama', 0.37758450000000005], ['Animation', 0.993311], ['Comedy', 0.6931367999999993], ['Documentary', 0.20253924999999975], ['Action', 0.20867], ['TBD', 0.130018]], 2010: [['War', 0.507092], ['Horror', 0.2990823333333333], ['Thriller', 0.3546215], ['Adventure', 0.4055313333333333], ['Science Fiction', 0.4366055], ['Drama', 0.4625792432432432], ['Music', 0.067753], ['Animation', 0.22011250000000002], ['Comedy', 0.5005265333333333], ['Documentary', 0.23296329166666666], ['Action', 1.1762306666666666], ['Crime', 0.180345], ['TBD', 0.07515149999999995]], 2013: [['War', 0.942674], ['Horror', 0.3443022105263158], ['Thriller', 0.4498195333333333], ['Adventure', 0.473251], ['Family', 0.36794699999999997], ['Science Fiction', 0.3532145], ['Drama', 0.41347428813559306], ['TV Movie', 0.113051], ['Music', 0.26697466666666664], ['Romance', 0.5162925], ['Comedy', 0.45570758620689655], ['Fantasy', 0.35270300000000004], ['Documentary', 0.16702762499999996], ['Action', 0.2776163333333333], ['TBD', 0.11848566666666667]], 1998: [['History', 1.059234], ['Horror', 0.188201], ['Thriller', 0.44169925000000004], ['Science Fiction', 1.152417], ['Drama', 0.4688852857142857], ['Comedy', 0.36022849999999995]], 1960: [['Horror', 0.16998733333333302], ['Thriller', 0.23257399999999998], ['Drama', 0.2053175], ['Comedy', 0.1808715]], 1961: [['Horror', 0.25457766666666665], ['Western', 0.070127], ['Drama', 0.2567443333333333], ['Comedy', 0.071619]], 1963: [['Horror', 0.44325066666666335], ['Drama', 0.155006], ['Comedy', 0.907078]], 1964: [['Horror', 0.00899], ['Drama', 0.18526099999999998], ['Comedy', 0.28039000000000003], ['Fantasy', 0.057242999999999995]], 1965: [['Horror', 0.350775], ['Thriller', 0.306394], ['Drama', 0.21305050000000003]], 1966: [['Horror', 0.1243175], ['Thriller', 0.10253], ['Western', 0.2460725], ['Drama', 0.6017829999999995], ['Comedy', 0.087034], ['Documentary', 0.080598]], 1969: [['Horror', 0.141028], ['Science Fiction', 0.10942400000000001], ['Drama', 0.3593577999999998], ['Comedy', 0.1759615]], 1970: [['Horror', 0.258719], ['Western', 0.568645], ['Drama', 0.218311], ['Comedy', 0.22371950000000002], ['TBD', 0.344172]], 1971: [['Horror', 0.155712], ['Western', 0.28593999999999997], ['Drama', 0.27165], ['Mystery', 0.21439], ['Comedy', 0.372802]], 1972: [['Horror', 0.3164075], ['Family', 0.17490899999999898], ['Western', 0.47666400000000003], ['Drama', 0.024345], ['Comedy', 0.27570675]], 1973: [['Horror', 0.19720300000000002], ['Western', 0.5922515], ['Drama', 0.200129], ['Documentary', 0.021941]], 1974: [['Horror', 0.247092], ['Drama', 0.19229966666666665], ['Comedy', 0.258089], ['TBD', 0.175008]], 1976: [['Horror', 0.164508], ['Thriller', 0.522601], ['Drama', 1.4330345], ['Comedy', 0.2882415], ['Action', 0.126723]], 1977: [['Horror', 0.10741233333333333], ['Family', 0.267177], ['Western', 0.24162899999999998], ['Science Fiction', 0.11406199999999901], ['Drama', 0.25582133333333335], ['Comedy', 0.125508999999999], ['Documentary', 0.520725]], 1978: [['Horror', 0.528686], ['Drama', 0.20395033333333332], ['Music', 1.697618], ['Mystery', 0.468871], ['Comedy', 0.6104036666666666], ['Documentary', 0.13863499999999898]], 1980: [['Horror', 0.5266359999999999], ['Science Fiction', 0.49493649999999995], ['Drama', 0.756017], ['Comedy', 0.5088159999999995]], 1981: [['Horror', 0.43696833333333296], ['Adventure', 0.9953569999999999], ['Science Fiction', 0.336233], ['Drama', 0.3556365], ['Music', 0.302908], ['Comedy', 0.40592533333333325], ['Fantasy', 0.29368], ['Documentary', 0.047479]], 1982: [['Horror', 0.7028685], ['Drama', 0.772892], ['Music', 0.851635], ['Comedy', 0.4485564285714286], ['Fantasy', 0.8848440000000001], ['Action', 0.174119]], 1983: [['Horror', 0.7251445], ['Comedy', 0.40456139999999985]], 1984: [['Horror', 0.601544], ['Drama', 0.6150405], ['Music', 0.263651], ['Animation', 0.647261], ['Comedy', 0.345991], ['Documentary', 0.125596]], 1985: [['Horror', 0.8139784999999999], ['Adventure', 0.25197600000000003], ['Drama', 0.5789443333333334], ['Animation', 1.034373], ['Comedy', 0.3396497500000001], ['Documentary', 0.147489], ['Action', 0.092747]], 1986: [['Horror', 0.2921175], ['Science Fiction', 0.17376799999999998], ['Drama', 0.50955875], ['Animation', 0.7875270000000001], ['Comedy', 0.37713728571428573], ['Action', 0.523347]], 1987: [['Horror', 0.3254584], ['Science Fiction', 0.447184], ['Drama', 0.2664672857142856], ['Animation', 0.25337600000000005], ['Comedy', 0.211878875]], 1988: [['Horror', 0.23785566666666666], ['Drama', 0.3955001818181808], ['Comedy', 0.24688887500000004], ['Action', 1.3925809999999899]], 1990: [['Horror', 0.213871], ['Thriller', 0.41188800000000003], ['Adventure', 1.0198], ['Drama', 0.5384915], ['Romance', 0.509163], ['Comedy', 0.3552105], ['Documentary', 0.142836]], 1991: [['Horror', 0.4232595], ['Drama', 0.326487], ['Mystery', 0.318657], ['Comedy', 0.3243466666666666], ['Documentary', 0.227986]], 1992: [['Horror', 0.776089], ['Thriller', 0.4904859999999995], ['Adventure', 0.38545], ['Western', 0.841579999999999], ['Science Fiction', 0.524767], ['Drama', 0.4549035999999999], ['Comedy', 0.4961156666666667], ['Documentary', 0.5216689999999989]], 1993: [['Horror', 0.2427055], ['Family', 0.226302], ['Drama', 0.4147232727272726], ['Comedy', 0.4616443333333333], ['Documentary', 0.118854], ['Action', 0.207999]], 1994: [['Horror', 0.061916], ['Adventure', 0.4482675], ['Science Fiction', 0.12131700000000001], ['Drama', 0.3494298333333334], ['Comedy', 0.6195486000000001], ['Fantasy', 0.43758100000000005], ['Documentary', 0.2649275], ['Action', 0.31059200000000003]], 1995: [['Horror', 0.355338], ['Adventure', 0.640868999999999], ['Science Fiction', 1.6490770000000001], ['Drama', 0.7241224285714286], ['Comedy', 0.6230527499999999], ['Documentary', 0.194889], ['TBD', 0.028874]], 1996: [['Horror', 0.16775700000000002], ['Adventure', 0.7401565000000001], ['Drama', 0.4694335], ['Comedy', 0.4707622666666667], ['Fantasy', 1.108366], ['Documentary', 0.1888725], ['Action', 0.544411], ['TBD', 0.273934]], 1997: [['Horror', 0.401471], ['Thriller', 0.706041], ['Family', 0.15255], ['Drama', 0.5604279999999999], ['Comedy', 0.9803955384615375], ['Documentary', 0.14890499999999898]], 2000: [['Horror', 0.7245423333333334], ['Thriller', 0.270669], ['Family', 0.045359], ['Science Fiction', 0.537494], ['Drama', 0.5026752666666666], ['Animation', 0.062226666666666645], ['Comedy', 0.5418379444444442], ['Documentary', 0.110294], ['TBD', 0.038044999999999995]], 2002: [['Horror', 0.3144835], ['Adventure', 0.548844], ['Family', 0.140786], ['Science Fiction', 0.46933199999999997], ['Drama', 0.714790375], ['Animation', 2.095296], ['Comedy', 0.45391014285714276], ['Documentary', 0.29005916666666665], ['Action', 1.2099324999999999]], 2003: [['Horror', 0.422985875], ['Adventure', 1.491266], ['Western', 0.6808029999999989], ['Science Fiction', 0.39450100000000005], ['Drama', 0.6284439999999998], ['Music', 1.635524], ['Animation', 0.355754], ['Comedy', 0.5796009411764699], ['Documentary', 0.206818], ['Action', 0.42149840000000005]], 2004: [['Horror', 0.137751], ['Western', 0.5187649999999989], ['Drama', 0.5468144090909092], ['Comedy', 0.6253767857142857], ['Documentary', 0.22937899999999997], ['Action', 0.300548]], 2005: [['Horror', 0.5150954444444444], ['Thriller', 0.718616], ['Science Fiction', 0.15656399999999998], ['Drama', 0.37720325], ['Music', 0.128733], ['Comedy', 0.5435313181818181], ['Documentary', 0.25436000000000003], ['Action', 0.685698], ['TBD', 0.092724]], 2006: [['Horror', 0.29725487500000003], ['Thriller', 0.46335650000000006], ['Family', 0.062503], ['Science Fiction', 0.23985399999999998], ['Drama', 0.5550286451612901], ['Music', 0.371412], ['Comedy', 0.5688411333333327], ['Documentary', 0.18470930000000002], ['Action', 0.566476]], 2007: [['Horror', 0.5332165714285715], ['Thriller', 0.48638819999999994], ['Adventure', 0.314684], ['Western', 1.1503889999999999], ['Drama', 0.47173447826086956], ['Music', 0.14097], ['Animation', 0.576043], ['Comedy', 0.37796776470588245], ['Documentary', 0.22222135714285712], ['Action', 0.35677000000000003]], 2008: [['Horror', 0.23618759999999997], ['Thriller', 0.26997266666666664], ['Family', 0.3475633333333333], ['Science Fiction', 0.007487000000000001], ['Drama', 0.47622918181818175], ['Music', 0.3886906666666667], ['Romance', 0.088877], ['Comedy', 0.41397886206896556], ['Documentary', 0.17539143749999994], ['Action', 1.172718], ['TBD', 0.145331]], 2009: [['Horror', 0.36192372727272726], ['Thriller', 0.41845199999999994], ['Adventure', 0.364253], ['Drama', 0.4531139642857141], ['Animation', 0.2523985], ['Comedy', 0.45343530232558155], ['Fantasy', 0.475826], ['Documentary', 0.21263853846153852], ['Action', 0.7388636666666634], ['TBD', 0.161398]], 2011: [['Horror', 0.32809800000000006], ['Thriller', 0.7392574999999999], ['Family', 0.593872], ['Science Fiction', 0.21348466666666666], ['Drama', 0.47420405882352934], ['Music', 0.304841], ['Romance', 0.045198], ['Animation', 0.4758213333333334], ['Comedy', 0.7500377272727272], ['Fantasy', 0.23431], ['Documentary', 0.173379875], ['Action', 0.45800640000000004]], 2012: [['Horror', 0.275026], ['Thriller', 0.6837139], ['Adventure', 1.5073370000000001], ['Family', 0.171625], ['Science Fiction', 0.3299006666666667], ['Drama', 0.37492137931034475], ['TV Movie', 0.074508], ['Music', 0.11804300000000001], ['Romance', 0.05515400000000001], ['Animation', 0.36979400000000007], ['Comedy', 0.4537138333333332], ['Fantasy', 0.324354], ['Documentary', 0.16609774285714282], ['Action', 0.6458295000000001], ['TBD', 0.2517835]], 2014: [['Horror', 0.4789722499999999], ['Thriller', 0.8007262499999999], ['Adventure', 0.932435], ['Family', 0.5247649999999989], ['Science Fiction', 0.127117], ['Drama', 0.6267521805555556], ['Music', 0.163139], ['Romance', 0.310313], ['Animation', 0.440287], ['Comedy', 0.8212528599999999], ['Documentary', 0.1463895208333333], ['Action', 0.45844569999999996], ['Crime', 0.147999], ['TBD', 0.330431]], 2015: [['Horror', 0.360156275862069], ['Thriller', 0.6923428461538451], ['Drama', 0.6116785862068963], ['TV Movie', 0.47634099999999996], ['Animation', 0.3839475], ['Comedy', 0.7197362702702703], ['Documentary', 0.1633983783783784], ['Action', 0.9667532857142856], ['Crime', 0.19957], ['TBD', 0.187172]], 1967: [['Thriller', 0.502062], ['Western', 0.139647], ['Science Fiction', 0.154785999999999], ['Drama', 0.214587], ['Music', 0.114034], ['Animation', 0.14690599999999898], ['Comedy', 0.2610996666666667]], 1962: [['Western', 0.507078], ['Drama', 0.27007075]], 1975: [['Western', 0.162767], ['Drama', 1.4578109999999997], ['Comedy', 0.461726], ['Documentary', 0.125881]], 1979: [['Drama', 0.408635], ['Comedy', 0.795674]]}\n"
     ]
    }
   ],
   "source": [
    "# year_dict is a dictionary that have years as keys and a list of mean popularity for each genre\n",
    "year_dict = {}\n",
    "# genres_dict is a dictionary that have years as keys and a list of lists containing mean popularity and its genre\n",
    "genres_dict = {}\n",
    "for i in set_genres:\n",
    "    # genres_pop holds a pandas series of years as indices and mean popularity\n",
    "    genres_pop = df.query('genres == @i').groupby(['release_year'])['popularity'].mean()\n",
    "    for ind, value in genres_pop.items():\n",
    "        if ind in year_dict:\n",
    "            year_dict[ind].append(value)\n",
    "        else:\n",
    "            year_dict[ind] = [value]\n",
    "            \n",
    "    for ind, value in genres_pop.items():\n",
    "        if ind in genres_dict:\n",
    "            genres_dict[ind].append([i, value])\n",
    "        else:\n",
    "            genres_dict[ind] = [[i, value]]\n",
    "\n",
    "print(genres_dict)"
   ]
  },
  {
   "cell_type": "code",
   "execution_count": 31,
   "metadata": {},
   "outputs": [
    {
     "name": "stdout",
     "output_type": "stream",
     "text": [
      "{1999: 'Drama', 1968: 'Science Fiction', 1989: 'War', 2001: 'War', 2010: 'Action', 2013: 'War', 1998: 'Science Fiction', 1960: 'Thriller', 1961: 'Drama', 1963: 'Comedy', 1964: 'Comedy', 1965: 'Horror', 1966: 'Drama', 1969: 'Drama', 1970: 'Western', 1971: 'Comedy', 1972: 'Western', 1973: 'Western', 1974: 'Comedy', 1976: 'Drama', 1977: 'Documentary', 1978: 'Music', 1980: 'Drama', 1981: 'Adventure', 1982: 'Fantasy', 1983: 'Horror', 1984: 'Animation', 1985: 'Animation', 1986: 'Animation', 1987: 'Science Fiction', 1988: 'Action', 1990: 'Adventure', 1991: 'Horror', 1992: 'Western', 1993: 'Comedy', 1994: 'Comedy', 1995: 'Science Fiction', 1996: 'Fantasy', 1997: 'Comedy', 2000: 'Horror', 2002: 'Animation', 2003: 'Music', 2004: 'Comedy', 2005: 'Thriller', 2006: 'Comedy', 2007: 'Western', 2008: 'Action', 2009: 'Action', 2011: 'Comedy', 2012: 'Adventure', 2014: 'Adventure', 2015: 'Action', 1967: 'Thriller', 1962: 'Western', 1975: 'Drama', 1979: 'Comedy'}\n"
     ]
    }
   ],
   "source": [
    "# create a dictionary for most popular genre in each year\n",
    "popular_genre_by_year = {}\n",
    "for key, value in year_dict.items():\n",
    "    # max pop in year_dict\n",
    "    popular_genre_by_year[key] =  max(value)\n",
    "    \n",
    "for key, value in genres_dict.items():\n",
    "    for i in value:\n",
    "        # checking which genre is most pop for each year\n",
    "        if popular_genre_by_year[key] == i[1]:\n",
    "            popular_genre_by_year[key] = i[0]\n",
    "            \n",
    "print(popular_genre_by_year)"
   ]
  },
  {
   "cell_type": "markdown",
   "metadata": {},
   "source": [
    "This is a dictionary that contains most popular genre in each year in dataset\n",
    "\n",
    "{1962: 'Western', 1968: 'Western', 1992: 'Comedy', 2003: 'Music', 2007: 'Western', 1985: 'Horror', 1986: 'Animation', 2002: 'Animation', 2011: 'Thriller', 2014: 'Comedy', 1981: 'Horror', 1982: 'Horror', 1996: 'Fantasy', 1999: 'Drama', 1976: 'Drama', 1997: 'Drama', 1998: 'Science Fiction', 2000: 'Horror', 2001: 'War', 2005: 'Action', 2006: 'Comedy', 2008: 'Action', 2009: 'Comedy', 2012: 'Adventure', 2013: 'Horror', 2015: 'Action', 1961: 'Drama', 1963: 'Horror', 1977: 'Horror', 1978: 'Music', 1980: 'Drama', 1983: 'Horror', 1984: 'Drama', 1987: 'Science Fiction', 1988: 'Action', 1990: 'Drama', 1991: 'Horror', 2004: 'Drama', 2010: 'Action', 1995: 'Science Fiction', 1966: 'Drama', 1969: 'Drama', 1971: 'Drama', 1975: 'Drama', 1979: 'Comedy', 1989: 'War', 1993: 'Comedy', 1994: 'Comedy', 1972: 'Comedy'}"
   ]
  },
  {
   "cell_type": "markdown",
   "metadata": {},
   "source": [
    "### What kinds of properties are associated with movies that have high revenues?\n",
    "To answer this question, we're going to use the non-zeroes dataframe we made in the data cleaning process. Then we see what kind of properties popular movies have, for example, does it have high vote_count, or high popularity?"
   ]
  },
  {
   "cell_type": "code",
   "execution_count": 33,
   "metadata": {},
   "outputs": [
    {
     "data": {
      "text/html": [
       "<div>\n",
       "<style scoped>\n",
       "    .dataframe tbody tr th:only-of-type {\n",
       "        vertical-align: middle;\n",
       "    }\n",
       "\n",
       "    .dataframe tbody tr th {\n",
       "        vertical-align: top;\n",
       "    }\n",
       "\n",
       "    .dataframe thead th {\n",
       "        text-align: right;\n",
       "    }\n",
       "</style>\n",
       "<table border=\"1\" class=\"dataframe\">\n",
       "  <thead>\n",
       "    <tr style=\"text-align: right;\">\n",
       "      <th></th>\n",
       "      <th>popularity</th>\n",
       "      <th>budget</th>\n",
       "      <th>revenue</th>\n",
       "      <th>runtime</th>\n",
       "      <th>vote_count</th>\n",
       "      <th>vote_average</th>\n",
       "      <th>release_year</th>\n",
       "      <th>budget_adj</th>\n",
       "      <th>revenue_adj</th>\n",
       "    </tr>\n",
       "  </thead>\n",
       "  <tbody>\n",
       "    <tr>\n",
       "      <th>count</th>\n",
       "      <td>3854.000000</td>\n",
       "      <td>3.854000e+03</td>\n",
       "      <td>3.854000e+03</td>\n",
       "      <td>3854.000000</td>\n",
       "      <td>3854.000000</td>\n",
       "      <td>3854.000000</td>\n",
       "      <td>3854.000000</td>\n",
       "      <td>3.854000e+03</td>\n",
       "      <td>3.854000e+03</td>\n",
       "    </tr>\n",
       "    <tr>\n",
       "      <th>mean</th>\n",
       "      <td>1.191554</td>\n",
       "      <td>3.720370e+07</td>\n",
       "      <td>1.076866e+08</td>\n",
       "      <td>109.220291</td>\n",
       "      <td>527.720291</td>\n",
       "      <td>6.168163</td>\n",
       "      <td>2001.261028</td>\n",
       "      <td>4.423999e+07</td>\n",
       "      <td>1.370647e+08</td>\n",
       "    </tr>\n",
       "    <tr>\n",
       "      <th>std</th>\n",
       "      <td>1.475162</td>\n",
       "      <td>4.220822e+07</td>\n",
       "      <td>1.765393e+08</td>\n",
       "      <td>19.922820</td>\n",
       "      <td>879.956821</td>\n",
       "      <td>0.794920</td>\n",
       "      <td>11.282575</td>\n",
       "      <td>4.480925e+07</td>\n",
       "      <td>2.161114e+08</td>\n",
       "    </tr>\n",
       "    <tr>\n",
       "      <th>min</th>\n",
       "      <td>0.001117</td>\n",
       "      <td>1.000000e+00</td>\n",
       "      <td>2.000000e+00</td>\n",
       "      <td>15.000000</td>\n",
       "      <td>10.000000</td>\n",
       "      <td>2.200000</td>\n",
       "      <td>1960.000000</td>\n",
       "      <td>9.693980e-01</td>\n",
       "      <td>2.370705e+00</td>\n",
       "    </tr>\n",
       "    <tr>\n",
       "      <th>25%</th>\n",
       "      <td>0.462368</td>\n",
       "      <td>1.000000e+07</td>\n",
       "      <td>1.360003e+07</td>\n",
       "      <td>95.000000</td>\n",
       "      <td>71.000000</td>\n",
       "      <td>5.700000</td>\n",
       "      <td>1995.000000</td>\n",
       "      <td>1.309053e+07</td>\n",
       "      <td>1.835735e+07</td>\n",
       "    </tr>\n",
       "    <tr>\n",
       "      <th>50%</th>\n",
       "      <td>0.797511</td>\n",
       "      <td>2.400000e+07</td>\n",
       "      <td>4.480000e+07</td>\n",
       "      <td>106.000000</td>\n",
       "      <td>204.000000</td>\n",
       "      <td>6.200000</td>\n",
       "      <td>2004.000000</td>\n",
       "      <td>3.001611e+07</td>\n",
       "      <td>6.173068e+07</td>\n",
       "    </tr>\n",
       "    <tr>\n",
       "      <th>75%</th>\n",
       "      <td>1.368324</td>\n",
       "      <td>5.000000e+07</td>\n",
       "      <td>1.242125e+08</td>\n",
       "      <td>119.000000</td>\n",
       "      <td>580.000000</td>\n",
       "      <td>6.700000</td>\n",
       "      <td>2010.000000</td>\n",
       "      <td>6.061307e+07</td>\n",
       "      <td>1.632577e+08</td>\n",
       "    </tr>\n",
       "    <tr>\n",
       "      <th>max</th>\n",
       "      <td>32.985763</td>\n",
       "      <td>4.250000e+08</td>\n",
       "      <td>2.781506e+09</td>\n",
       "      <td>338.000000</td>\n",
       "      <td>9767.000000</td>\n",
       "      <td>8.400000</td>\n",
       "      <td>2015.000000</td>\n",
       "      <td>4.250000e+08</td>\n",
       "      <td>2.827124e+09</td>\n",
       "    </tr>\n",
       "  </tbody>\n",
       "</table>\n",
       "</div>"
      ],
      "text/plain": [
       "        popularity        budget       revenue      runtime   vote_count  \\\n",
       "count  3854.000000  3.854000e+03  3.854000e+03  3854.000000  3854.000000   \n",
       "mean      1.191554  3.720370e+07  1.076866e+08   109.220291   527.720291   \n",
       "std       1.475162  4.220822e+07  1.765393e+08    19.922820   879.956821   \n",
       "min       0.001117  1.000000e+00  2.000000e+00    15.000000    10.000000   \n",
       "25%       0.462368  1.000000e+07  1.360003e+07    95.000000    71.000000   \n",
       "50%       0.797511  2.400000e+07  4.480000e+07   106.000000   204.000000   \n",
       "75%       1.368324  5.000000e+07  1.242125e+08   119.000000   580.000000   \n",
       "max      32.985763  4.250000e+08  2.781506e+09   338.000000  9767.000000   \n",
       "\n",
       "       vote_average  release_year    budget_adj   revenue_adj  \n",
       "count   3854.000000   3854.000000  3.854000e+03  3.854000e+03  \n",
       "mean       6.168163   2001.261028  4.423999e+07  1.370647e+08  \n",
       "std        0.794920     11.282575  4.480925e+07  2.161114e+08  \n",
       "min        2.200000   1960.000000  9.693980e-01  2.370705e+00  \n",
       "25%        5.700000   1995.000000  1.309053e+07  1.835735e+07  \n",
       "50%        6.200000   2004.000000  3.001611e+07  6.173068e+07  \n",
       "75%        6.700000   2010.000000  6.061307e+07  1.632577e+08  \n",
       "max        8.400000   2015.000000  4.250000e+08  2.827124e+09  "
      ]
     },
     "execution_count": 33,
     "metadata": {},
     "output_type": "execute_result"
    }
   ],
   "source": [
    "revenue_df.describe()"
   ]
  },
  {
   "cell_type": "code",
   "execution_count": 37,
   "metadata": {},
   "outputs": [
    {
     "data": {
      "image/png": "[encoded data removed]",
      "text/plain": [
       "<matplotlib.figure.Figure at 0x7fb76ee70b38>"
      ]
     },
     "metadata": {
      "needs_background": "light"
     },
     "output_type": "display_data"
    }
   ],
   "source": [
    "revenue_df.plot(kind='scatter', x='popularity', y='revenue')\n",
    "plt.title('popularity vs. revenue')\n",
    "plt.show()"
   ]
  },
  {
   "cell_type": "code",
   "execution_count": 38,
   "metadata": {},
   "outputs": [
    {
     "data": {
      "image/png": "[encoded data removed]",
      "text/plain": [
       "<matplotlib.figure.Figure at 0x7fb76eee95f8>"
      ]
     },
     "metadata": {
      "needs_background": "light"
     },
     "output_type": "display_data"
    }
   ],
   "source": [
    "revenue_df.plot(kind='scatter', x='vote_count', y='revenue')\n",
    "plt.title('vote_count vs. revenue')\n",
    "plt.show()"
   ]
  },
  {
   "cell_type": "code",
   "execution_count": 39,
   "metadata": {},
   "outputs": [
    {
     "data": {
      "image/png": "[encoded data removed]",
      "text/plain": [
       "<matplotlib.figure.Figure at 0x7fb76eee9748>"
      ]
     },
     "metadata": {
      "needs_background": "light"
     },
     "output_type": "display_data"
    }
   ],
   "source": [
    "revenue_df.plot(kind='scatter', x='vote_average', y='revenue')\n",
    "plt.title('vote_average vs. revenue')\n",
    "plt.show()"
   ]
  },
  {
   "cell_type": "markdown",
   "metadata": {},
   "source": [
    "1. From the popularity plot, we see that only a few instances exist where higher popularity means higher revenue.\n",
    "2. From the vote count plot, we see that there is a positive correlation between vote_count and revenue.\n",
    "3. From the vote avg plot, we see that there is a positive correlation between vote_average and revenue."
   ]
  },
  {
   "cell_type": "markdown",
   "metadata": {},
   "source": [
    "<a id='conclusions'></a>\n",
    "## Conclusions\n",
    "\n",
    "At the start of our process we first cleaned our data; we dropped irrelevant columns to our questions, we dealt with null values by replacing it with a string we know, and we dropped a duplicate row. After cleaning our data we started analyzing the data to answer our posed questions.\\n\n"
   ]
  },
  {
   "cell_type": "markdown",
   "metadata": {},
   "source": [
    "The first question we had to group the data by genre somehow but we couldn't use the DataFrame.groupby method, because there were multiple genres for a lot of movies. So we had to use DataFrame.query method to create a dataframe for each genre. After that we grouped the data by release_year and saw the mean popularity for each year, and all that is done for each genre. In the end we gathered the mean values and got the maximum value for each year between all genres."
   ]
  },
  {
   "cell_type": "markdown",
   "metadata": {},
   "source": [
    "The second question we did data visualization and used scatter plots to convey the relationship between revenue and other properties in the dataset."
   ]
  },
  {
   "cell_type": "markdown",
   "metadata": {},
   "source": [
    "Among the limitations we encountered was:\n",
    "1. The thousands of missing data from revenue; the analysis would be more accurate if it was filled out.\n",
    "2. There was a number of missing data from the genres column that we filled out with a known string, because it was a small percentage of the dataset, it didn't have much effect on our analysis.\n",
    "3. The popularity column can feel ambiguous, since there are alot of factors that compute to it; if it was seperated into more than one column with a clearer meaning, we could have had more precise analysis."
   ]
  },
  {
   "cell_type": "code",
   "execution_count": null,
   "metadata": {},
   "outputs": [],
   "source": [
    "from subprocess import call\n",
    "call(['python', '-m', 'nbconvert', 'Investigate_a_Dataset.ipynb'])"
   ]
  }
 ],
 "metadata": {
  "kernelspec": {
   "display_name": "Python 3",
   "language": "python",
   "name": "python3"
  },
  "language_info": {
   "codemirror_mode": {
    "name": "ipython",
    "version": 3
   },
   "file_extension": ".py",
   "mimetype": "text/x-python",
   "name": "python",
   "nbconvert_exporter": "python",
   "pygments_lexer": "ipython3",
   "version": "3.6.3"
  }
 },
 "nbformat": 4,
 "nbformat_minor": 2
}
