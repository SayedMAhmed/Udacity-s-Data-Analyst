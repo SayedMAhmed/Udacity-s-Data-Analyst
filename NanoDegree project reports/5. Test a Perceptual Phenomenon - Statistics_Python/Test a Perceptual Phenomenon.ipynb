{
 "cells": [
  {
   "cell_type": "markdown",
   "metadata": {},
   "source": [
    "### Analyzing the Stroop Effect\n",
    "Perform the analysis in the space below. Remember to follow [the instructions](https://docs.google.com/document/d/1-OkpZLjG_kX9J6LIQ5IltsqMzVWjh36QpnP2RYpVdPU/pub?embedded=True) and review the [project rubric](https://review.udacity.com/#!/rubrics/71/view) before submitting. Once you've completed the analysis and write-up, download this file as a PDF or HTML file, upload that PDF/HTML into the workspace here (click on the orange Jupyter icon in the upper left then Upload), then use the Submit Project button at the bottom of this page. This will create a zip file containing both this .ipynb doc and the PDF/HTML doc that will be submitted for your project.\n",
    "\n",
    "\n",
    "(1) What is the independent variable? What is the dependent variable?"
   ]
  },
  {
   "cell_type": "markdown",
   "metadata": {},
   "source": [
    "The independent variable is whether the words condition is congruent or incongruent. And the dependent variable is how long it takes participants to define the color of the words."
   ]
  },
  {
   "cell_type": "markdown",
   "metadata": {},
   "source": [
    "(2) What is an appropriate set of hypotheses for this task? Specify your null and alternative hypotheses, and clearly define any notation used. Justify your choices."
   ]
  },
  {
   "cell_type": "markdown",
   "metadata": {},
   "source": [
    "For this experiment, the null hypothesis will be that the recorded time for Congruent words is the same as the recorded time for Incongruent words, and the alternative hypothesis will be that the recorded time for Congruent words is different from the recorded time for Incongruent words."
   ]
  },
  {
   "cell_type": "markdown",
   "metadata": {},
   "source": [
    "P(con): Congruent population mean.\n",
    "\n",
    "P(incon): Incongruent population mean.\n",
    "\n",
    "The Null Hypothesis: \n",
    "\n",
    "        $P(incon) - P(con) = 0$\n",
    "\n",
    "The Alternative Hypothesis: \n",
    "\n",
    "        $P(incon) - P(con) != 0$"
   ]
  },
  {
   "cell_type": "markdown",
   "metadata": {},
   "source": [
    "The reason we chose a two-tailed test is that we want to prove if the incongruent words takes different times to identify words condition than congruent words.\n",
    "\n",
    "So with that hypothesis we test and see if there is a statistical significance, and if so, we reject the null which will prove our theory that the incongruent words take different times than the congruent."
   ]
  },
  {
   "cell_type": "markdown",
   "metadata": {},
   "source": [
    "(3) Report some descriptive statistics regarding this dataset. Include at least one measure of central tendency and at least one measure of variability. The name of the data file is 'stroopdata.csv'."
   ]
  },
  {
   "cell_type": "code",
   "execution_count": 1,
   "metadata": {},
   "outputs": [
    {
     "data": {
      "text/html": [
       "<div>\n",
       "<style scoped>\n",
       "    .dataframe tbody tr th:only-of-type {\n",
       "        vertical-align: middle;\n",
       "    }\n",
       "\n",
       "    .dataframe tbody tr th {\n",
       "        vertical-align: top;\n",
       "    }\n",
       "\n",
       "    .dataframe thead th {\n",
       "        text-align: right;\n",
       "    }\n",
       "</style>\n",
       "<table border=\"1\" class=\"dataframe\">\n",
       "  <thead>\n",
       "    <tr style=\"text-align: right;\">\n",
       "      <th></th>\n",
       "      <th>Congruent</th>\n",
       "      <th>Incongruent</th>\n",
       "    </tr>\n",
       "  </thead>\n",
       "  <tbody>\n",
       "    <tr>\n",
       "      <th>0</th>\n",
       "      <td>12.079</td>\n",
       "      <td>19.278</td>\n",
       "    </tr>\n",
       "    <tr>\n",
       "      <th>1</th>\n",
       "      <td>16.791</td>\n",
       "      <td>18.741</td>\n",
       "    </tr>\n",
       "    <tr>\n",
       "      <th>2</th>\n",
       "      <td>9.564</td>\n",
       "      <td>21.214</td>\n",
       "    </tr>\n",
       "    <tr>\n",
       "      <th>3</th>\n",
       "      <td>8.630</td>\n",
       "      <td>15.687</td>\n",
       "    </tr>\n",
       "    <tr>\n",
       "      <th>4</th>\n",
       "      <td>14.669</td>\n",
       "      <td>22.803</td>\n",
       "    </tr>\n",
       "  </tbody>\n",
       "</table>\n",
       "</div>"
      ],
      "text/plain": [
       "   Congruent  Incongruent\n",
       "0     12.079       19.278\n",
       "1     16.791       18.741\n",
       "2      9.564       21.214\n",
       "3      8.630       15.687\n",
       "4     14.669       22.803"
      ]
     },
     "execution_count": 1,
     "metadata": {},
     "output_type": "execute_result"
    }
   ],
   "source": [
    "import pandas as pd\n",
    "import numpy as np\n",
    "import matplotlib.pyplot as plt\n",
    "% matplotlib inline\n",
    "\n",
    "df = pd.read_csv('stroopdata.csv')\n",
    "df.head()"
   ]
  },
  {
   "cell_type": "code",
   "execution_count": 2,
   "metadata": {},
   "outputs": [
    {
     "name": "stdout",
     "output_type": "stream",
     "text": [
      "The mean time for Congruent words is:  14.0511\n",
      "The mean time for Incongruent words is:  22.0159\n",
      "The interquartile range for Congruent words is  4.3055\n",
      "The interquartile range for Incongruent words is  5.3347\n"
     ]
    }
   ],
   "source": [
    "# Perform the analysis here\n",
    "#the round function is used to round the numbers to 4 decimal points\n",
    "#use Series mean method to measure the mean for Congruent and Incongruent columns\n",
    "print('The mean time for Congruent words is: ', round(df['Congruent'].mean(), 4))\n",
    "print('The mean time for Incongruent words is: ', round(df['Incongruent'].mean(), 4))\n",
    "#use Series quantile method to measure the quantile at the specified range\n",
    "#to calculate the interquantile range we subtract the 75% quantile from the 25% quantile\n",
    "#con_iqr holds the interquartile range for the Congruent column\n",
    "#incon_iqr holds the interquartile range for the Incongruent column\n",
    "con_iqr = df['Congruent'].quantile(.75) - df['Congruent'].quantile(.25)\n",
    "print('The interquartile range for Congruent words is ', round(con_iqr, 4))\n",
    "incon_iqr = df['Incongruent'].quantile(.75) - df['Incongruent'].quantile(.25)\n",
    "print('The interquartile range for Incongruent words is ', round(incon_iqr, 4))"
   ]
  },
  {
   "cell_type": "markdown",
   "metadata": {},
   "source": [
    "Measure of central tendency: The mean of both Congruent and Incongruent.\n",
    "\n",
    "        The mean time for Congruent words is:  14.0511\n",
    "\n",
    "        The mean time for Incongruent words is:  22.0159\n",
    "\n",
    "Measure of variability: The Interquartile range of both Congruent and Incongruent.\n",
    "\n",
    "        The interquartile range for Congruent words is  4.3055\n",
    "\n",
    "        The interquartile range for Incongruent words is  5.3347"
   ]
  },
  {
   "cell_type": "markdown",
   "metadata": {},
   "source": [
    "(4) Provide one or two visualizations that show the distribution of the sample data. Write one or two sentences noting what you observe about the plot or plots."
   ]
  },
  {
   "cell_type": "code",
   "execution_count": 3,
   "metadata": {},
   "outputs": [],
   "source": [
    "# here we perform bootstrap sampling\n",
    "# and collect our statistic from the data samples\n",
    "# and store it in diffs_mean\n",
    "diffs_mean = []\n",
    "df_sample = df.sample(df.shape[0])\n",
    "for _ in range(10000):\n",
    "    boot_sample = df_sample.sample(df.shape[0], replace=True)\n",
    "    diffs_mean.append(boot_sample['Incongruent'].mean() - boot_sample['Congruent'].mean())\n",
    "    \n",
    "diffs_mean = np.asarray(diffs_mean)"
   ]
  },
  {
   "cell_type": "code",
   "execution_count": 4,
   "metadata": {},
   "outputs": [
    {
     "data": {
      "image/png": "[encoded data removed]",
      "text/plain": [
       "<matplotlib.figure.Figure at 0x7f66c1bb7ac8>"
      ]
     },
     "metadata": {
      "needs_background": "light"
     },
     "output_type": "display_data"
    }
   ],
   "source": [
    "# Build the visualizations here\n",
    "plt.hist(diffs_mean);"
   ]
  },
  {
   "cell_type": "markdown",
   "metadata": {},
   "source": [
    "From the plot we observe that on average the time it takes to identify incongruent words is more than it takes for congruent words."
   ]
  },
  {
   "cell_type": "markdown",
   "metadata": {},
   "source": [
    "(5)  Now, perform the statistical test and report your results. What is your confidence level or Type I error associated with your test? What is your conclusion regarding the hypotheses you set up? Did the results match up with your expectations? **Hint:**  Think about what is being measured on each individual, and what statistic best captures how an individual reacts in each environment."
   ]
  },
  {
   "cell_type": "markdown",
   "metadata": {},
   "source": [
    "For a small sample size it is encouraged to use a t-test rather than a z-test and since our sample size is only 24 we are going to implement a t-test. And because all individuals in our dataset are performing both tests it's going to be a dependent t-test for paired samples.\n",
    "\n",
    "We can assume the distribution of the differences of means between the two variables to be approximately normal, our plot above supports that assumption."
   ]
  },
  {
   "cell_type": "code",
   "execution_count": 5,
   "metadata": {},
   "outputs": [],
   "source": [
    "#This is a two-tailed test for the null hypothesis that 2 dependent samples have identical (expected) average values\n",
    "# we use the ttest_rel from scipy.stats to calculate the t-statistic and p-value\n",
    "from scipy import stats\n",
    "tstat, pvalue = stats.ttest_rel(df['Incongruent'], df['Congruent'])"
   ]
  },
  {
   "cell_type": "code",
   "execution_count": 6,
   "metadata": {},
   "outputs": [
    {
     "data": {
      "text/plain": [
       "(8.020706944109957, 4.1030005857111781e-08)"
      ]
     },
     "execution_count": 6,
     "metadata": {},
     "output_type": "execute_result"
    }
   ],
   "source": [
    "tstat, pvalue"
   ]
  },
  {
   "cell_type": "code",
   "execution_count": 7,
   "metadata": {},
   "outputs": [
    {
     "data": {
      "text/plain": [
       "8.1932150009707758"
      ]
     },
     "execution_count": 7,
     "metadata": {},
     "output_type": "execute_result"
    }
   ],
   "source": [
    "#extra insurance that our statistical test was accurate\n",
    "#implement the following formula to calculate the t-statistic\n",
    "#t-stat = (mean(a) - mean(b)) / (standard_deviation(a - b)/square_root(N))\n",
    "import math\n",
    "tstat = (df['Incongruent'].mean() - df['Congruent'].mean())/(np.std(df['Incongruent'] - df['Congruent'])/math.sqrt(df.shape[0]))\n",
    "tstat"
   ]
  },
  {
   "cell_type": "markdown",
   "metadata": {},
   "source": [
    "For this hypothesis we are going to compare the p-value against a 5% type I error threshold. Seeing that the p-value is lower than 5%, we conclude that there is a statistical significance, which means we have reason to reject the null hypothesis. \n",
    "\n",
    "In this experiment we were trying to prove that it takes different times to identify different word conditions, which was what we expected and proven. By rejecting the null hypothesis we have proof that it does take different times to identify Congruent and Incongruent words."
   ]
  },
  {
   "cell_type": "markdown",
   "metadata": {},
   "source": [
    "(6) Optional: What do you think is responsible for the effects observed? Can you think of an alternative or similar task that would result in a similar effect? Some research about the problem will be helpful for thinking about these two questions!"
   ]
  },
  {
   "cell_type": "markdown",
   "metadata": {},
   "source": [
    "--write answer here--"
   ]
  }
 ],
 "metadata": {
  "kernelspec": {
   "display_name": "Python 3",
   "language": "python",
   "name": "python3"
  },
  "language_info": {
   "codemirror_mode": {
    "name": "ipython",
    "version": 3
   },
   "file_extension": ".py",
   "mimetype": "text/x-python",
   "name": "python",
   "nbconvert_exporter": "python",
   "pygments_lexer": "ipython3",
   "version": "3.6.3"
  }
 },
 "nbformat": 4,
 "nbformat_minor": 2
}
